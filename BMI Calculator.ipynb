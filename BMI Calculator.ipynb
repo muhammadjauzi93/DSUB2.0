{
 "cells": [
  {
   "cell_type": "code",
   "execution_count": 4,
   "id": "b7d045ed",
   "metadata": {},
   "outputs": [],
   "source": [
    "# Register Patients detail in Dictionary\n",
    "A = {\n",
    "    \"Name\":\"A\",\n",
    "    \"Sex\":\"Male\",\n",
    "    \"Height(cm)\":168,\n",
    "    \"Weight(kg)\":58\n",
    "}\n",
    "\n",
    "B = {\n",
    "    \"Name\":\"B\",\n",
    "    \"Sex\":\"female\",\n",
    "    \"Height(cm)\":157,\n",
    "    \"Weight(kg)\":42\n",
    "}\n",
    "\n",
    "C = {\n",
    "    \"Name\":\"C\",\n",
    "    \"Sex\":\"Male\",\n",
    "    \"Height(cm)\":172,\n",
    "    \"Weight(kg)\":85\n",
    "}\n",
    "\n",
    "# Assign Dictionary in 'Patients' list\n",
    "Patients = [A,B,C]"
   ]
  },
  {
   "cell_type": "code",
   "execution_count": 8,
   "id": "9859e7d7",
   "metadata": {},
   "outputs": [
    {
     "name": "stdout",
     "output_type": "stream",
     "text": [
      "Patient A BMI is 20.5\n",
      "Patient B BMI is 17.0\n",
      "Patient C BMI is 28.7\n"
     ]
    }
   ],
   "source": [
    "for p in Patients:\n",
    "    print(f\"Patient {p['Name']} BMI is {round(p['Weight(kg)']/pow((p['Height(cm)']/100),2),1)}\")\n",
    "    "
   ]
  },
  {
   "cell_type": "code",
   "execution_count": null,
   "id": "85d45ffa",
   "metadata": {},
   "outputs": [],
   "source": []
  }
 ],
 "metadata": {
  "kernelspec": {
   "display_name": "Python 3",
   "language": "python",
   "name": "python3"
  },
  "language_info": {
   "codemirror_mode": {
    "name": "ipython",
    "version": 3
   },
   "file_extension": ".py",
   "mimetype": "text/x-python",
   "name": "python",
   "nbconvert_exporter": "python",
   "pygments_lexer": "ipython3",
   "version": "3.8.8"
  }
 },
 "nbformat": 4,
 "nbformat_minor": 5
}
