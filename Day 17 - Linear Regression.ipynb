{
 "cells": [
  {
   "cell_type": "code",
   "execution_count": 1,
   "id": "283ea786",
   "metadata": {},
   "outputs": [],
   "source": [
    "import pandas as pd\n",
    "import seaborn as sns"
   ]
  },
  {
   "cell_type": "code",
   "execution_count": 2,
   "id": "2e6efbe8",
   "metadata": {},
   "outputs": [],
   "source": [
    "df = pd.read_excel(\"https://github.com/theleadio/datascience_demo/blob/master/social-ads-raw.xlsx?raw=true\")"
   ]
  },
  {
   "cell_type": "code",
   "execution_count": 3,
   "id": "49d4e27e",
   "metadata": {},
   "outputs": [
    {
     "data": {
      "text/html": [
       "<div>\n",
       "<style scoped>\n",
       "    .dataframe tbody tr th:only-of-type {\n",
       "        vertical-align: middle;\n",
       "    }\n",
       "\n",
       "    .dataframe tbody tr th {\n",
       "        vertical-align: top;\n",
       "    }\n",
       "\n",
       "    .dataframe thead th {\n",
       "        text-align: right;\n",
       "    }\n",
       "</style>\n",
       "<table border=\"1\" class=\"dataframe\">\n",
       "  <thead>\n",
       "    <tr style=\"text-align: right;\">\n",
       "      <th></th>\n",
       "      <th>segment</th>\n",
       "      <th>google</th>\n",
       "      <th>facebook</th>\n",
       "      <th>instagram</th>\n",
       "      <th>sales</th>\n",
       "      <th>size</th>\n",
       "      <th>area</th>\n",
       "      <th>Unnamed: 7</th>\n",
       "      <th>Unnamed: 8</th>\n",
       "      <th>Unnamed: 9</th>\n",
       "      <th>Unnamed: 10</th>\n",
       "    </tr>\n",
       "  </thead>\n",
       "  <tbody>\n",
       "    <tr>\n",
       "      <th>0</th>\n",
       "      <td>1</td>\n",
       "      <td>230.1</td>\n",
       "      <td>37.8</td>\n",
       "      <td>69.2</td>\n",
       "      <td>22.1</td>\n",
       "      <td>large</td>\n",
       "      <td>rural</td>\n",
       "      <td>NaN</td>\n",
       "      <td>NaN</td>\n",
       "      <td>NaN</td>\n",
       "      <td>NaN</td>\n",
       "    </tr>\n",
       "    <tr>\n",
       "      <th>1</th>\n",
       "      <td>2</td>\n",
       "      <td>44.5</td>\n",
       "      <td>39.3</td>\n",
       "      <td>45.1</td>\n",
       "      <td>10.4</td>\n",
       "      <td>small</td>\n",
       "      <td>urban</td>\n",
       "      <td>NaN</td>\n",
       "      <td>NaN</td>\n",
       "      <td>NaN</td>\n",
       "      <td>NaN</td>\n",
       "    </tr>\n",
       "    <tr>\n",
       "      <th>2</th>\n",
       "      <td>3</td>\n",
       "      <td>17.2</td>\n",
       "      <td>45.9</td>\n",
       "      <td>69.3</td>\n",
       "      <td>9.3</td>\n",
       "      <td>small</td>\n",
       "      <td>rural</td>\n",
       "      <td>NaN</td>\n",
       "      <td>NaN</td>\n",
       "      <td>NaN</td>\n",
       "      <td>NaN</td>\n",
       "    </tr>\n",
       "    <tr>\n",
       "      <th>3</th>\n",
       "      <td>4</td>\n",
       "      <td>151.5</td>\n",
       "      <td>41.3</td>\n",
       "      <td>58.5</td>\n",
       "      <td>18.5</td>\n",
       "      <td>small</td>\n",
       "      <td>urban</td>\n",
       "      <td>NaN</td>\n",
       "      <td>NaN</td>\n",
       "      <td>NaN</td>\n",
       "      <td>NaN</td>\n",
       "    </tr>\n",
       "    <tr>\n",
       "      <th>4</th>\n",
       "      <td>5</td>\n",
       "      <td>180.8</td>\n",
       "      <td>10.8</td>\n",
       "      <td>58.4</td>\n",
       "      <td>12.9</td>\n",
       "      <td>large</td>\n",
       "      <td>suburban</td>\n",
       "      <td>NaN</td>\n",
       "      <td>NaN</td>\n",
       "      <td>NaN</td>\n",
       "      <td>NaN</td>\n",
       "    </tr>\n",
       "  </tbody>\n",
       "</table>\n",
       "</div>"
      ],
      "text/plain": [
       "   segment  google  facebook  instagram  sales   size      area  Unnamed: 7  \\\n",
       "0        1   230.1      37.8       69.2   22.1  large     rural         NaN   \n",
       "1        2    44.5      39.3       45.1   10.4  small     urban         NaN   \n",
       "2        3    17.2      45.9       69.3    9.3  small     rural         NaN   \n",
       "3        4   151.5      41.3       58.5   18.5  small     urban         NaN   \n",
       "4        5   180.8      10.8       58.4   12.9  large  suburban         NaN   \n",
       "\n",
       "   Unnamed: 8  Unnamed: 9  Unnamed: 10  \n",
       "0         NaN         NaN          NaN  \n",
       "1         NaN         NaN          NaN  \n",
       "2         NaN         NaN          NaN  \n",
       "3         NaN         NaN          NaN  \n",
       "4         NaN         NaN          NaN  "
      ]
     },
     "execution_count": 3,
     "metadata": {},
     "output_type": "execute_result"
    }
   ],
   "source": [
    "df.head()"
   ]
  },
  {
   "cell_type": "code",
   "execution_count": 4,
   "id": "ecc19c78",
   "metadata": {},
   "outputs": [],
   "source": [
    "df = df.drop(['Unnamed: 7','Unnamed: 8','Unnamed: 9','Unnamed: 10'],axis=1)"
   ]
  },
  {
   "cell_type": "code",
   "execution_count": 5,
   "id": "57b51404",
   "metadata": {},
   "outputs": [
    {
     "name": "stdout",
     "output_type": "stream",
     "text": [
      "<class 'pandas.core.frame.DataFrame'>\n",
      "RangeIndex: 200 entries, 0 to 199\n",
      "Data columns (total 7 columns):\n",
      " #   Column     Non-Null Count  Dtype  \n",
      "---  ------     --------------  -----  \n",
      " 0   segment    200 non-null    int64  \n",
      " 1   google     200 non-null    float64\n",
      " 2   facebook   200 non-null    float64\n",
      " 3   instagram  200 non-null    float64\n",
      " 4   sales      200 non-null    float64\n",
      " 5   size       200 non-null    object \n",
      " 6   area       200 non-null    object \n",
      "dtypes: float64(4), int64(1), object(2)\n",
      "memory usage: 11.1+ KB\n"
     ]
    }
   ],
   "source": [
    "df.info()"
   ]
  },
  {
   "cell_type": "code",
   "execution_count": 6,
   "id": "8f9f3e27",
   "metadata": {},
   "outputs": [
    {
     "data": {
      "text/plain": [
       "array(['large', 'small'], dtype=object)"
      ]
     },
     "execution_count": 6,
     "metadata": {},
     "output_type": "execute_result"
    }
   ],
   "source": [
    "df['size'].unique()"
   ]
  },
  {
   "cell_type": "code",
   "execution_count": 7,
   "id": "159bd839",
   "metadata": {},
   "outputs": [
    {
     "data": {
      "text/plain": [
       "array(['rural', 'urban', 'suburban'], dtype=object)"
      ]
     },
     "execution_count": 7,
     "metadata": {},
     "output_type": "execute_result"
    }
   ],
   "source": [
    "df['area'].unique()"
   ]
  },
  {
   "cell_type": "code",
   "execution_count": 8,
   "id": "e2f061ec",
   "metadata": {},
   "outputs": [],
   "source": [
    "df = pd.get_dummies(data=df,columns=['size'])\n",
    "df = pd.get_dummies(data=df,columns=['area'])"
   ]
  },
  {
   "cell_type": "code",
   "execution_count": 9,
   "id": "bd0eec1d",
   "metadata": {},
   "outputs": [
    {
     "data": {
      "text/html": [
       "<div>\n",
       "<style scoped>\n",
       "    .dataframe tbody tr th:only-of-type {\n",
       "        vertical-align: middle;\n",
       "    }\n",
       "\n",
       "    .dataframe tbody tr th {\n",
       "        vertical-align: top;\n",
       "    }\n",
       "\n",
       "    .dataframe thead th {\n",
       "        text-align: right;\n",
       "    }\n",
       "</style>\n",
       "<table border=\"1\" class=\"dataframe\">\n",
       "  <thead>\n",
       "    <tr style=\"text-align: right;\">\n",
       "      <th></th>\n",
       "      <th>segment</th>\n",
       "      <th>google</th>\n",
       "      <th>facebook</th>\n",
       "      <th>instagram</th>\n",
       "      <th>sales</th>\n",
       "      <th>size_large</th>\n",
       "      <th>size_small</th>\n",
       "      <th>area_rural</th>\n",
       "      <th>area_suburban</th>\n",
       "      <th>area_urban</th>\n",
       "    </tr>\n",
       "  </thead>\n",
       "  <tbody>\n",
       "    <tr>\n",
       "      <th>count</th>\n",
       "      <td>200.000000</td>\n",
       "      <td>200.000000</td>\n",
       "      <td>200.000000</td>\n",
       "      <td>200.000000</td>\n",
       "      <td>200.000000</td>\n",
       "      <td>200.000000</td>\n",
       "      <td>200.000000</td>\n",
       "      <td>200.000000</td>\n",
       "      <td>200.000000</td>\n",
       "      <td>200.000000</td>\n",
       "    </tr>\n",
       "    <tr>\n",
       "      <th>mean</th>\n",
       "      <td>100.500000</td>\n",
       "      <td>147.042500</td>\n",
       "      <td>23.264000</td>\n",
       "      <td>30.554000</td>\n",
       "      <td>14.022500</td>\n",
       "      <td>0.540000</td>\n",
       "      <td>0.460000</td>\n",
       "      <td>0.295000</td>\n",
       "      <td>0.390000</td>\n",
       "      <td>0.315000</td>\n",
       "    </tr>\n",
       "    <tr>\n",
       "      <th>std</th>\n",
       "      <td>57.879185</td>\n",
       "      <td>85.854236</td>\n",
       "      <td>14.846809</td>\n",
       "      <td>21.778621</td>\n",
       "      <td>5.217457</td>\n",
       "      <td>0.499648</td>\n",
       "      <td>0.499648</td>\n",
       "      <td>0.457187</td>\n",
       "      <td>0.488974</td>\n",
       "      <td>0.465682</td>\n",
       "    </tr>\n",
       "    <tr>\n",
       "      <th>min</th>\n",
       "      <td>1.000000</td>\n",
       "      <td>0.700000</td>\n",
       "      <td>0.000000</td>\n",
       "      <td>0.300000</td>\n",
       "      <td>1.600000</td>\n",
       "      <td>0.000000</td>\n",
       "      <td>0.000000</td>\n",
       "      <td>0.000000</td>\n",
       "      <td>0.000000</td>\n",
       "      <td>0.000000</td>\n",
       "    </tr>\n",
       "    <tr>\n",
       "      <th>25%</th>\n",
       "      <td>50.750000</td>\n",
       "      <td>74.375000</td>\n",
       "      <td>9.975000</td>\n",
       "      <td>12.750000</td>\n",
       "      <td>10.375000</td>\n",
       "      <td>0.000000</td>\n",
       "      <td>0.000000</td>\n",
       "      <td>0.000000</td>\n",
       "      <td>0.000000</td>\n",
       "      <td>0.000000</td>\n",
       "    </tr>\n",
       "    <tr>\n",
       "      <th>50%</th>\n",
       "      <td>100.500000</td>\n",
       "      <td>149.750000</td>\n",
       "      <td>22.900000</td>\n",
       "      <td>25.750000</td>\n",
       "      <td>12.900000</td>\n",
       "      <td>1.000000</td>\n",
       "      <td>0.000000</td>\n",
       "      <td>0.000000</td>\n",
       "      <td>0.000000</td>\n",
       "      <td>0.000000</td>\n",
       "    </tr>\n",
       "    <tr>\n",
       "      <th>75%</th>\n",
       "      <td>150.250000</td>\n",
       "      <td>218.825000</td>\n",
       "      <td>36.525000</td>\n",
       "      <td>45.100000</td>\n",
       "      <td>17.400000</td>\n",
       "      <td>1.000000</td>\n",
       "      <td>1.000000</td>\n",
       "      <td>1.000000</td>\n",
       "      <td>1.000000</td>\n",
       "      <td>1.000000</td>\n",
       "    </tr>\n",
       "    <tr>\n",
       "      <th>max</th>\n",
       "      <td>200.000000</td>\n",
       "      <td>296.400000</td>\n",
       "      <td>49.600000</td>\n",
       "      <td>114.000000</td>\n",
       "      <td>27.000000</td>\n",
       "      <td>1.000000</td>\n",
       "      <td>1.000000</td>\n",
       "      <td>1.000000</td>\n",
       "      <td>1.000000</td>\n",
       "      <td>1.000000</td>\n",
       "    </tr>\n",
       "  </tbody>\n",
       "</table>\n",
       "</div>"
      ],
      "text/plain": [
       "          segment      google    facebook   instagram       sales  size_large  \\\n",
       "count  200.000000  200.000000  200.000000  200.000000  200.000000  200.000000   \n",
       "mean   100.500000  147.042500   23.264000   30.554000   14.022500    0.540000   \n",
       "std     57.879185   85.854236   14.846809   21.778621    5.217457    0.499648   \n",
       "min      1.000000    0.700000    0.000000    0.300000    1.600000    0.000000   \n",
       "25%     50.750000   74.375000    9.975000   12.750000   10.375000    0.000000   \n",
       "50%    100.500000  149.750000   22.900000   25.750000   12.900000    1.000000   \n",
       "75%    150.250000  218.825000   36.525000   45.100000   17.400000    1.000000   \n",
       "max    200.000000  296.400000   49.600000  114.000000   27.000000    1.000000   \n",
       "\n",
       "       size_small  area_rural  area_suburban  area_urban  \n",
       "count  200.000000  200.000000     200.000000  200.000000  \n",
       "mean     0.460000    0.295000       0.390000    0.315000  \n",
       "std      0.499648    0.457187       0.488974    0.465682  \n",
       "min      0.000000    0.000000       0.000000    0.000000  \n",
       "25%      0.000000    0.000000       0.000000    0.000000  \n",
       "50%      0.000000    0.000000       0.000000    0.000000  \n",
       "75%      1.000000    1.000000       1.000000    1.000000  \n",
       "max      1.000000    1.000000       1.000000    1.000000  "
      ]
     },
     "execution_count": 9,
     "metadata": {},
     "output_type": "execute_result"
    }
   ],
   "source": [
    "df.describe()"
   ]
  },
  {
   "cell_type": "code",
   "execution_count": 10,
   "id": "e608468f",
   "metadata": {
    "scrolled": false
   },
   "outputs": [],
   "source": [
    "# drop discrete data\n",
    "linear_df = df.drop(['segment'],axis=1)"
   ]
  },
  {
   "cell_type": "code",
   "execution_count": 11,
   "id": "b6e00ab2",
   "metadata": {},
   "outputs": [],
   "source": [
    "#subplots\n",
    "from matplotlib import pyplot as plt"
   ]
  },
  {
   "cell_type": "code",
   "execution_count": 12,
   "id": "5f20cc96",
   "metadata": {},
   "outputs": [
    {
     "data": {
      "text/plain": [
       "<AxesSubplot:xlabel='instagram', ylabel='sales'>"
      ]
     },
     "execution_count": 12,
     "metadata": {},
     "output_type": "execute_result"
    },
    {
     "data": {
      "image/png": "[encoded data removed]",
      "text/plain": [
       "<Figure size 1440x720 with 3 Axes>"
      ]
     },
     "metadata": {
      "needs_background": "light"
     },
     "output_type": "display_data"
    }
   ],
   "source": [
    "main, subplots = plt.subplots(1,3, figsize=(20,10))\n",
    "sns.regplot(data=linear_df,x='google',y='sales',ax=subplots[0])\n",
    "sns.regplot(data=linear_df,x='facebook',y='sales',ax=subplots[1])\n",
    "sns.regplot(data=linear_df,x='instagram',y='sales',ax=subplots[2])"
   ]
  },
  {
   "cell_type": "code",
   "execution_count": 13,
   "id": "d2362ec5",
   "metadata": {},
   "outputs": [],
   "source": [
    "from sklearn.model_selection import train_test_split\n",
    "from sklearn.linear_model import LinearRegression"
   ]
  },
  {
   "cell_type": "code",
   "execution_count": 14,
   "id": "c496d45a",
   "metadata": {},
   "outputs": [],
   "source": [
    "#predict google sales using ads spending\n",
    "multi = ['google','facebook', 'instagram','size_large','area_rural','area_suburban','area_urban']\n",
    "\n",
    "train_data_google = linear_df[['google']]\n",
    "train_data_facebook = linear_df[['facebook']]\n",
    "train_data_instagram = linear_df[['instagram']]\n",
    "train_data_multi = linear_df[multi]\n",
    "train_target = linear_df[['sales']]\n",
    "\n"
   ]
  },
  {
   "cell_type": "code",
   "execution_count": 15,
   "id": "11cf00b6",
   "metadata": {},
   "outputs": [
    {
     "data": {
      "text/plain": [
       "LinearRegression()"
      ]
     },
     "execution_count": 15,
     "metadata": {},
     "output_type": "execute_result"
    }
   ],
   "source": [
    "model_google = LinearRegression()\n",
    "model_facebook = LinearRegression()\n",
    "model_instagram = LinearRegression()\n",
    "model_multi = LinearRegression()\n",
    "\n",
    "model_google.fit(train_data_google,train_target)\n",
    "model_facebook.fit(train_data_facebook,train_target)\n",
    "model_instagram.fit(train_data_instagram,train_target)\n",
    "model_multi.fit(train_data_multi,train_target)"
   ]
  },
  {
   "cell_type": "code",
   "execution_count": 16,
   "id": "088d5e93",
   "metadata": {},
   "outputs": [
    {
     "name": "stdout",
     "output_type": "stream",
     "text": [
      "Google linear regression results:\n",
      "Score:  0.611875050850071\n",
      "Intercept:  [7.03259355]\n",
      "Coefficient:  [[0.04753664]]\n"
     ]
    }
   ],
   "source": [
    "#Google\n",
    "print('Google linear regression results:')\n",
    "print('Score: ',model_google.score(train_data_google,train_target))\n",
    "print('Intercept: ',model_google.intercept_)\n",
    "print('Coefficient: ', model_google.coef_)"
   ]
  },
  {
   "cell_type": "code",
   "execution_count": 17,
   "id": "4eabdc53",
   "metadata": {},
   "outputs": [
    {
     "name": "stdout",
     "output_type": "stream",
     "text": [
      "Facebook linear regression results:\n",
      "Score:  0.33203245544529525\n",
      "Intercept:  [9.3116381]\n",
      "Coefficient:  [[0.20249578]]\n"
     ]
    }
   ],
   "source": [
    "#Facebook\n",
    "print('Facebook linear regression results:')\n",
    "print('Score: ',model_facebook.score(train_data_facebook,train_target))\n",
    "print('Intercept: ',model_facebook.intercept_)\n",
    "print('Coefficient: ', model_facebook.coef_)"
   ]
  },
  {
   "cell_type": "code",
   "execution_count": 18,
   "id": "7b2989cf",
   "metadata": {},
   "outputs": [
    {
     "name": "stdout",
     "output_type": "stream",
     "text": [
      "Instagram linear regression results:\n",
      "Score:  0.05212044544430516\n",
      "Intercept:  [12.35140707]\n",
      "Coefficient:  [[0.0546931]]\n"
     ]
    }
   ],
   "source": [
    "#Instagram\n",
    "print('Instagram linear regression results:')\n",
    "print('Score: ',model_instagram.score(train_data_instagram,train_target))\n",
    "print('Intercept: ',model_instagram.intercept_)\n",
    "print('Coefficient: ', model_instagram.coef_)"
   ]
  },
  {
   "cell_type": "code",
   "execution_count": 19,
   "id": "5bbfaabc",
   "metadata": {},
   "outputs": [
    {
     "name": "stdout",
     "output_type": "stream",
     "text": [
      "Linear regression results:\n",
      "Score:  0.8981611875394304\n",
      "Intercept:  [2.92804933]\n",
      "Coefficient:  [[ 0.04574401  0.1878667  -0.0010877   0.07739661 -0.05385834 -0.16042133\n",
      "   0.21427968]]\n"
     ]
    }
   ],
   "source": [
    "#Multi-Features\n",
    "print('Linear regression results:')\n",
    "print('Score: ',model_multi.score(train_data_multi,train_target))\n",
    "print('Intercept: ',model_multi.intercept_)\n",
    "print('Coefficient: ', model_multi.coef_)\n",
    "#['google','facebook', 'instagram','size_large','area_rural','area_suburban','area_urban']"
   ]
  },
  {
   "cell_type": "code",
   "execution_count": 36,
   "id": "c3872856",
   "metadata": {},
   "outputs": [
    {
     "data": {
      "text/plain": [
       "array([[11.58949013]])"
      ]
     },
     "execution_count": 36,
     "metadata": {},
     "output_type": "execute_result"
    }
   ],
   "source": [
    "model_multi.predict([[60,30,10,1,0,0,1]])"
   ]
  },
  {
   "cell_type": "code",
   "execution_count": 37,
   "id": "2c6d48e8",
   "metadata": {},
   "outputs": [
    {
     "name": "stdout",
     "output_type": "stream",
     "text": [
      "Expected revenue is 57,947,450.65\n"
     ]
    }
   ],
   "source": [
    "#If price of product is 5000 per unit\n",
    "product_price = 5000\n",
    "expected_revenue = 11.58949013 * 1000 * product_price\n",
    "print(f\"Expected revenue is {expected_revenue:,.2f}\")"
   ]
  },
  {
   "cell_type": "code",
   "execution_count": null,
   "id": "ac336c2f",
   "metadata": {},
   "outputs": [],
   "source": []
  }
 ],
 "metadata": {
  "kernelspec": {
   "display_name": "Python 3",
   "language": "python",
   "name": "python3"
  },
  "language_info": {
   "codemirror_mode": {
    "name": "ipython",
    "version": 3
   },
   "file_extension": ".py",
   "mimetype": "text/x-python",
   "name": "python",
   "nbconvert_exporter": "python",
   "pygments_lexer": "ipython3",
   "version": "3.8.8"
  }
 },
 "nbformat": 4,
 "nbformat_minor": 5
}
