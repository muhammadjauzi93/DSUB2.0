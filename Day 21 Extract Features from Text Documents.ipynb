{
 "cells": [
  {
   "cell_type": "code",
   "execution_count": 1,
   "id": "1466dd44",
   "metadata": {},
   "outputs": [],
   "source": [
    "import pandas as pd"
   ]
  },
  {
   "cell_type": "code",
   "execution_count": 2,
   "id": "011232fe",
   "metadata": {},
   "outputs": [],
   "source": [
    "df = pd.read_csv(\"https://raw.githubusercontent.com/theleadio/datascience_demo/master/netflix_titles.csv\")"
   ]
  },
  {
   "cell_type": "code",
   "execution_count": 3,
   "id": "abfa8208",
   "metadata": {},
   "outputs": [
    {
     "data": {
      "text/html": [
       "<div>\n",
       "<style scoped>\n",
       "    .dataframe tbody tr th:only-of-type {\n",
       "        vertical-align: middle;\n",
       "    }\n",
       "\n",
       "    .dataframe tbody tr th {\n",
       "        vertical-align: top;\n",
       "    }\n",
       "\n",
       "    .dataframe thead th {\n",
       "        text-align: right;\n",
       "    }\n",
       "</style>\n",
       "<table border=\"1\" class=\"dataframe\">\n",
       "  <thead>\n",
       "    <tr style=\"text-align: right;\">\n",
       "      <th></th>\n",
       "      <th>show_id</th>\n",
       "      <th>type</th>\n",
       "      <th>title</th>\n",
       "      <th>director</th>\n",
       "      <th>cast</th>\n",
       "      <th>country</th>\n",
       "      <th>date_added</th>\n",
       "      <th>release_year</th>\n",
       "      <th>rating</th>\n",
       "      <th>duration</th>\n",
       "      <th>listed_in</th>\n",
       "      <th>description</th>\n",
       "    </tr>\n",
       "  </thead>\n",
       "  <tbody>\n",
       "    <tr>\n",
       "      <th>0</th>\n",
       "      <td>s1</td>\n",
       "      <td>TV Show</td>\n",
       "      <td>3%</td>\n",
       "      <td>NaN</td>\n",
       "      <td>João Miguel, Bianca Comparato, Michel Gomes, R...</td>\n",
       "      <td>Brazil</td>\n",
       "      <td>August 14, 2020</td>\n",
       "      <td>2020</td>\n",
       "      <td>TV-MA</td>\n",
       "      <td>4 Seasons</td>\n",
       "      <td>International TV Shows, TV Dramas, TV Sci-Fi &amp;...</td>\n",
       "      <td>In a future where the elite inhabit an island ...</td>\n",
       "    </tr>\n",
       "    <tr>\n",
       "      <th>1</th>\n",
       "      <td>s2</td>\n",
       "      <td>Movie</td>\n",
       "      <td>7:19</td>\n",
       "      <td>Jorge Michel Grau</td>\n",
       "      <td>Demián Bichir, Héctor Bonilla, Oscar Serrano, ...</td>\n",
       "      <td>Mexico</td>\n",
       "      <td>December 23, 2016</td>\n",
       "      <td>2016</td>\n",
       "      <td>TV-MA</td>\n",
       "      <td>93 min</td>\n",
       "      <td>Dramas, International Movies</td>\n",
       "      <td>After a devastating earthquake hits Mexico Cit...</td>\n",
       "    </tr>\n",
       "    <tr>\n",
       "      <th>2</th>\n",
       "      <td>s3</td>\n",
       "      <td>Movie</td>\n",
       "      <td>23:59</td>\n",
       "      <td>Gilbert Chan</td>\n",
       "      <td>Tedd Chan, Stella Chung, Henley Hii, Lawrence ...</td>\n",
       "      <td>Singapore</td>\n",
       "      <td>December 20, 2018</td>\n",
       "      <td>2011</td>\n",
       "      <td>R</td>\n",
       "      <td>78 min</td>\n",
       "      <td>Horror Movies, International Movies</td>\n",
       "      <td>When an army recruit is found dead, his fellow...</td>\n",
       "    </tr>\n",
       "    <tr>\n",
       "      <th>3</th>\n",
       "      <td>s4</td>\n",
       "      <td>Movie</td>\n",
       "      <td>9</td>\n",
       "      <td>Shane Acker</td>\n",
       "      <td>Elijah Wood, John C. Reilly, Jennifer Connelly...</td>\n",
       "      <td>United States</td>\n",
       "      <td>November 16, 2017</td>\n",
       "      <td>2009</td>\n",
       "      <td>PG-13</td>\n",
       "      <td>80 min</td>\n",
       "      <td>Action &amp; Adventure, Independent Movies, Sci-Fi...</td>\n",
       "      <td>In a postapocalyptic world, rag-doll robots hi...</td>\n",
       "    </tr>\n",
       "    <tr>\n",
       "      <th>4</th>\n",
       "      <td>s5</td>\n",
       "      <td>Movie</td>\n",
       "      <td>21</td>\n",
       "      <td>Robert Luketic</td>\n",
       "      <td>Jim Sturgess, Kevin Spacey, Kate Bosworth, Aar...</td>\n",
       "      <td>United States</td>\n",
       "      <td>January 1, 2020</td>\n",
       "      <td>2008</td>\n",
       "      <td>PG-13</td>\n",
       "      <td>123 min</td>\n",
       "      <td>Dramas</td>\n",
       "      <td>A brilliant group of students become card-coun...</td>\n",
       "    </tr>\n",
       "  </tbody>\n",
       "</table>\n",
       "</div>"
      ],
      "text/plain": [
       "  show_id     type  title           director  \\\n",
       "0      s1  TV Show     3%                NaN   \n",
       "1      s2    Movie   7:19  Jorge Michel Grau   \n",
       "2      s3    Movie  23:59       Gilbert Chan   \n",
       "3      s4    Movie      9        Shane Acker   \n",
       "4      s5    Movie     21     Robert Luketic   \n",
       "\n",
       "                                                cast        country  \\\n",
       "0  João Miguel, Bianca Comparato, Michel Gomes, R...         Brazil   \n",
       "1  Demián Bichir, Héctor Bonilla, Oscar Serrano, ...         Mexico   \n",
       "2  Tedd Chan, Stella Chung, Henley Hii, Lawrence ...      Singapore   \n",
       "3  Elijah Wood, John C. Reilly, Jennifer Connelly...  United States   \n",
       "4  Jim Sturgess, Kevin Spacey, Kate Bosworth, Aar...  United States   \n",
       "\n",
       "          date_added  release_year rating   duration  \\\n",
       "0    August 14, 2020          2020  TV-MA  4 Seasons   \n",
       "1  December 23, 2016          2016  TV-MA     93 min   \n",
       "2  December 20, 2018          2011      R     78 min   \n",
       "3  November 16, 2017          2009  PG-13     80 min   \n",
       "4    January 1, 2020          2008  PG-13    123 min   \n",
       "\n",
       "                                           listed_in  \\\n",
       "0  International TV Shows, TV Dramas, TV Sci-Fi &...   \n",
       "1                       Dramas, International Movies   \n",
       "2                Horror Movies, International Movies   \n",
       "3  Action & Adventure, Independent Movies, Sci-Fi...   \n",
       "4                                             Dramas   \n",
       "\n",
       "                                         description  \n",
       "0  In a future where the elite inhabit an island ...  \n",
       "1  After a devastating earthquake hits Mexico Cit...  \n",
       "2  When an army recruit is found dead, his fellow...  \n",
       "3  In a postapocalyptic world, rag-doll robots hi...  \n",
       "4  A brilliant group of students become card-coun...  "
      ]
     },
     "execution_count": 3,
     "metadata": {},
     "output_type": "execute_result"
    }
   ],
   "source": [
    "df.head()"
   ]
  },
  {
   "cell_type": "code",
   "execution_count": 4,
   "id": "0acfd52e",
   "metadata": {},
   "outputs": [
    {
     "name": "stdout",
     "output_type": "stream",
     "text": [
      "<class 'pandas.core.frame.DataFrame'>\n",
      "RangeIndex: 7787 entries, 0 to 7786\n",
      "Data columns (total 12 columns):\n",
      " #   Column        Non-Null Count  Dtype \n",
      "---  ------        --------------  ----- \n",
      " 0   show_id       7787 non-null   object\n",
      " 1   type          7787 non-null   object\n",
      " 2   title         7787 non-null   object\n",
      " 3   director      5398 non-null   object\n",
      " 4   cast          7069 non-null   object\n",
      " 5   country       7280 non-null   object\n",
      " 6   date_added    7777 non-null   object\n",
      " 7   release_year  7787 non-null   int64 \n",
      " 8   rating        7780 non-null   object\n",
      " 9   duration      7787 non-null   object\n",
      " 10  listed_in     7787 non-null   object\n",
      " 11  description   7787 non-null   object\n",
      "dtypes: int64(1), object(11)\n",
      "memory usage: 730.2+ KB\n"
     ]
    }
   ],
   "source": [
    "df.info()"
   ]
  },
  {
   "cell_type": "code",
   "execution_count": 6,
   "id": "2dbae4c4",
   "metadata": {},
   "outputs": [],
   "source": [
    "# TF-IDF\n",
    "# TF = Term Frequency\n",
    "# IDF = Inverse Document Frequency = log(total number of documents/number of documents containing the term)\n",
    "\n",
    "from sklearn.feature_extraction.text import TfidfVectorizer\n",
    "\n",
    "tfid = TfidfVectorizer(stop_words='english')\n",
    "feature = tfid.fit_transform(df['description'])"
   ]
  },
  {
   "cell_type": "code",
   "execution_count": 8,
   "id": "a1cd6476",
   "metadata": {},
   "outputs": [],
   "source": [
    "query = ['robot','students','action','money','crazy'] \n",
    "query_feature = tfid.transform([query[0]])"
   ]
  },
  {
   "cell_type": "code",
   "execution_count": 9,
   "id": "7fac4320",
   "metadata": {},
   "outputs": [],
   "source": [
    "from sklearn.metrics.pairwise import cosine_similarity\n",
    "cosims = cosine_similarity(query_feature,feature).flatten()"
   ]
  },
  {
   "cell_type": "code",
   "execution_count": 11,
   "id": "e1903bc1",
   "metadata": {},
   "outputs": [],
   "source": [
    "result = cosims.argsort()[-6:-1]"
   ]
  },
  {
   "cell_type": "code",
   "execution_count": 12,
   "id": "5ff8f6b5",
   "metadata": {},
   "outputs": [
    {
     "name": "stdout",
     "output_type": "stream",
     "text": [
      "[1276 5239 2085 4926  754]\n"
     ]
    }
   ],
   "source": [
    "print(result)"
   ]
  },
  {
   "cell_type": "code",
   "execution_count": 19,
   "id": "1e3a1438",
   "metadata": {},
   "outputs": [
    {
     "name": "stdout",
     "output_type": "stream",
     "text": [
      "In a futuristic society where a robot police force keeps crime at bay, a lone droid gains the power of artificial intelligence.\n",
      "----------------------------------------------------------------\n",
      "A boy and his homemade robot enter the toughest competition in the universe while attempting to free their oppressed home from an evil empire.\n",
      "----------------------------------------------------------------\n",
      "Venturing into the woods, high schooler James discovers an intelligent robot that he must save from the hands of a businessman with an evil scheme.\n",
      "----------------------------------------------------------------\n",
      "A kid transforms into an action figure-sized superhero and teams with his toys in a fight against a villainous robot to save the world.\n",
      "----------------------------------------------------------------\n",
      "Four friends from a humble technical school compete against the elite students of a prestigious university in a robot-building contest.\n",
      "----------------------------------------------------------------\n"
     ]
    }
   ],
   "source": [
    "for x in result:\n",
    "    print(df.iloc[x]['description'])\n",
    "    print('----------------------------------------------------------------')"
   ]
  },
  {
   "cell_type": "code",
   "execution_count": 34,
   "id": "4f93aef4",
   "metadata": {},
   "outputs": [
    {
     "name": "stdout",
     "output_type": "stream",
     "text": [
      "              \n",
      "##################################################################################\n",
      "\"flying robot\" Keyword in movie description\n",
      "Four friends from a humble technical school compete against the elite students of a prestigious university in a robot-building contest.\n",
      "----------------------------------------------------------------\n",
      "Follow an 11-year-old boy as he goes from ordinary child to colorful competitor in his quest for a big win at India’s biggest kite-flying festival.\n",
      "----------------------------------------------------------------\n",
      "The life of a high-flying law student takes a drastic turn when a bout of misfortune changes his status in society for good.\n",
      "----------------------------------------------------------------\n",
      "A high-flying rock star and son of a politician falls for a woman from a qawwal family, leading to a love triangle that may consume everyone involved.\n",
      "----------------------------------------------------------------\n",
      "A struggling fighter-turned-promoter reconnects with his estranged son to convert an old-generation robot into a mighty World Robot Boxing contender.\n",
      "----------------------------------------------------------------\n",
      "              \n",
      "##################################################################################\n",
      "\"serial killer\" Keyword in movie description\n",
      "When a number of Russian women are brutally murdered in Los Angeles, the police call on a Moscow detective to help track down the serial killer.\n",
      "----------------------------------------------------------------\n",
      "Connected by phone in the same home but 20 years apart, a serial killer puts another woman’s past — and life — on the line to change her own fate.\n",
      "----------------------------------------------------------------\n",
      "Her marriage just ended and she's returning to work as a London detective after 12 years away. Is the serial killer she once investigated back, too?\n",
      "----------------------------------------------------------------\n",
      "Hiding his own murderous past, a man suffering from Alzheimer's must protect his daughter from her boyfriend, who he suspects is also a serial killer.\n",
      "----------------------------------------------------------------\n",
      "Decades after her capture, a serial killer offers to help solve a string of copycat murders – but only if her son, now a cop, will work by her side.\n",
      "----------------------------------------------------------------\n",
      "              \n",
      "##################################################################################\n",
      "\"teen psychopath\" Keyword in movie description\n",
      "After learning she's pregnant, a teen grapples with the consequences while trying to go about her life as if nothing has changed.\n",
      "----------------------------------------------------------------\n",
      "Menaced by a psychopath who's got the local cops scared, waitress Lillian turns to a mysterious old logger to help her turn the tables on her stalker.\n",
      "----------------------------------------------------------------\n",
      "While vacationing at a remote lake house, a mother and her daughters become pawns in the twisted game of an ax-wielding psychopath.\n",
      "----------------------------------------------------------------\n",
      "Two mischievous boys get thrust into a game of cat and mouse with a murderous psychopath after they decide to steal a police officer’s cruiser.\n",
      "----------------------------------------------------------------\n",
      "A corrupt cop and a serial killer obsessed with a psychopath from the '60s get caught up in a ruthless cat-and-mouse game in this Indian thriller.\n",
      "----------------------------------------------------------------\n",
      "              \n",
      "##################################################################################\n",
      "\"money laundering\" Keyword in movie description\n",
      "A coldhearted heiress, a man from her past and an ambitious new hire in her company all become entangled on a battleground for money and power.\n",
      "----------------------------------------------------------------\n",
      "A documentary on why and how \"Money Heist\" sparked a wave of enthusiasm around the world for a lovable group of thieves and their professor.\n",
      "----------------------------------------------------------------\n",
      "When a con man tries to retrieve a bag of money, he swoons for a woman with ties to a notorious crew of criminals.\n",
      "----------------------------------------------------------------\n",
      "A struggling couple can't believe their luck when they find a stash of money in the apartment of a neighbor who was recently murdered.\n",
      "----------------------------------------------------------------\n",
      "Trouble and high jinks ensue when a man and woman stumble on a bag full of money while out on the town.\n",
      "----------------------------------------------------------------\n",
      "              \n",
      "##################################################################################\n",
      "\"crazy woman\" Keyword in movie description\n",
      "Snowfall marks the start of Odinyule — the Viking holiday of giving! But crazy weather might cancel the tradition unless the Rescue Riders can swoop in.\n",
      "----------------------------------------------------------------\n",
      "In a South Indian village, a centenarian's funeral brings together his free-spirited son, inheritance-hungry grandson and girl-crazy great-grandson.\n",
      "----------------------------------------------------------------\n",
      "Despite doubts from fellow villagers who think he’s crazy, an ambitious dropout commits himself to solving a persistent local electricity crisis.\n",
      "----------------------------------------------------------------\n",
      "Ronny Chieng (\"The Daily Show,\" \"Crazy Rich Asians\") takes center stage in this stand-up special and riffs on modern American life and more.\n",
      "----------------------------------------------------------------\n",
      "When laidback Ren, who is about to divorce his money-crazy wife, finds a time-traveling computer, he decides to use it to reboot his marriage.\n",
      "----------------------------------------------------------------\n"
     ]
    }
   ],
   "source": [
    "query = ['flying robot','serial killer','teen psychopath','money laundering','crazy woman']\n",
    "\n",
    "for y in query:\n",
    "    query_feature = tfid.transform([y])\n",
    "    cosims = cosine_similarity(query_feature,feature).flatten()\n",
    "    result = cosims.argsort()[-6:-1]\n",
    "    print('              ')\n",
    "    print('##################################################################################')\n",
    "    print(f'\"{y}\" Keyword in movie description')\n",
    "    for x in result:\n",
    "        print(df.iloc[x]['description'])\n",
    "        print('----------------------------------------------------------------')\n",
    "        \n"
   ]
  },
  {
   "cell_type": "code",
   "execution_count": null,
   "id": "d558b9a4",
   "metadata": {},
   "outputs": [],
   "source": []
  }
 ],
 "metadata": {
  "kernelspec": {
   "display_name": "Python 3",
   "language": "python",
   "name": "python3"
  },
  "language_info": {
   "codemirror_mode": {
    "name": "ipython",
    "version": 3
   },
   "file_extension": ".py",
   "mimetype": "text/x-python",
   "name": "python",
   "nbconvert_exporter": "python",
   "pygments_lexer": "ipython3",
   "version": "3.8.8"
  }
 },
 "nbformat": 4,
 "nbformat_minor": 5
}
