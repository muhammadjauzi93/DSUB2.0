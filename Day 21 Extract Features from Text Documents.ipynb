{
 "cells": [
  {
   "cell_type": "code",
   "execution_count": 68,
   "id": "39dd2b5a",
   "metadata": {},
   "outputs": [],
   "source": [
    "import pandas as pd"
   ]
  },
  {
   "cell_type": "code",
   "execution_count": 69,
   "id": "ccaa4b5b",
   "metadata": {},
   "outputs": [],
   "source": [
    "df = pd.read_csv(\"https://raw.githubusercontent.com/theleadio/datascience_demo/master/netflix_titles.csv\")\n",
    "df = df[df['type'] == 'Movie']"
   ]
  },
  {
   "cell_type": "code",
   "execution_count": 70,
   "id": "aba8df6a",
   "metadata": {},
   "outputs": [
    {
     "data": {
      "text/html": [
       "<div>\n",
       "<style scoped>\n",
       "    .dataframe tbody tr th:only-of-type {\n",
       "        vertical-align: middle;\n",
       "    }\n",
       "\n",
       "    .dataframe tbody tr th {\n",
       "        vertical-align: top;\n",
       "    }\n",
       "\n",
       "    .dataframe thead th {\n",
       "        text-align: right;\n",
       "    }\n",
       "</style>\n",
       "<table border=\"1\" class=\"dataframe\">\n",
       "  <thead>\n",
       "    <tr style=\"text-align: right;\">\n",
       "      <th></th>\n",
       "      <th>show_id</th>\n",
       "      <th>type</th>\n",
       "      <th>title</th>\n",
       "      <th>director</th>\n",
       "      <th>cast</th>\n",
       "      <th>country</th>\n",
       "      <th>date_added</th>\n",
       "      <th>release_year</th>\n",
       "      <th>rating</th>\n",
       "      <th>duration</th>\n",
       "      <th>listed_in</th>\n",
       "      <th>description</th>\n",
       "    </tr>\n",
       "  </thead>\n",
       "  <tbody>\n",
       "    <tr>\n",
       "      <th>7781</th>\n",
       "      <td>s7782</td>\n",
       "      <td>Movie</td>\n",
       "      <td>Zoom</td>\n",
       "      <td>Peter Hewitt</td>\n",
       "      <td>Tim Allen, Courteney Cox, Chevy Chase, Kate Ma...</td>\n",
       "      <td>United States</td>\n",
       "      <td>January 11, 2020</td>\n",
       "      <td>2006</td>\n",
       "      <td>PG</td>\n",
       "      <td>88 min</td>\n",
       "      <td>Children &amp; Family Movies, Comedies</td>\n",
       "      <td>Dragged from civilian life, a former superhero...</td>\n",
       "    </tr>\n",
       "    <tr>\n",
       "      <th>7782</th>\n",
       "      <td>s7783</td>\n",
       "      <td>Movie</td>\n",
       "      <td>Zozo</td>\n",
       "      <td>Josef Fares</td>\n",
       "      <td>Imad Creidi, Antoinette Turk, Elias Gergi, Car...</td>\n",
       "      <td>Sweden, Czech Republic, United Kingdom, Denmar...</td>\n",
       "      <td>October 19, 2020</td>\n",
       "      <td>2005</td>\n",
       "      <td>TV-MA</td>\n",
       "      <td>99 min</td>\n",
       "      <td>Dramas, International Movies</td>\n",
       "      <td>When Lebanon's Civil War deprives Zozo of his ...</td>\n",
       "    </tr>\n",
       "    <tr>\n",
       "      <th>7783</th>\n",
       "      <td>s7784</td>\n",
       "      <td>Movie</td>\n",
       "      <td>Zubaan</td>\n",
       "      <td>Mozez Singh</td>\n",
       "      <td>Vicky Kaushal, Sarah-Jane Dias, Raaghav Chanan...</td>\n",
       "      <td>India</td>\n",
       "      <td>March 2, 2019</td>\n",
       "      <td>2015</td>\n",
       "      <td>TV-14</td>\n",
       "      <td>111 min</td>\n",
       "      <td>Dramas, International Movies, Music &amp; Musicals</td>\n",
       "      <td>A scrappy but poor boy worms his way into a ty...</td>\n",
       "    </tr>\n",
       "    <tr>\n",
       "      <th>7784</th>\n",
       "      <td>s7785</td>\n",
       "      <td>Movie</td>\n",
       "      <td>Zulu Man in Japan</td>\n",
       "      <td>NaN</td>\n",
       "      <td>Nasty C</td>\n",
       "      <td>NaN</td>\n",
       "      <td>September 25, 2020</td>\n",
       "      <td>2019</td>\n",
       "      <td>TV-MA</td>\n",
       "      <td>44 min</td>\n",
       "      <td>Documentaries, International Movies, Music &amp; M...</td>\n",
       "      <td>In this documentary, South African rapper Nast...</td>\n",
       "    </tr>\n",
       "    <tr>\n",
       "      <th>7786</th>\n",
       "      <td>s7787</td>\n",
       "      <td>Movie</td>\n",
       "      <td>ZZ TOP: THAT LITTLE OL' BAND FROM TEXAS</td>\n",
       "      <td>Sam Dunn</td>\n",
       "      <td>NaN</td>\n",
       "      <td>United Kingdom, Canada, United States</td>\n",
       "      <td>March 1, 2020</td>\n",
       "      <td>2019</td>\n",
       "      <td>TV-MA</td>\n",
       "      <td>90 min</td>\n",
       "      <td>Documentaries, Music &amp; Musicals</td>\n",
       "      <td>This documentary delves into the mystique behi...</td>\n",
       "    </tr>\n",
       "  </tbody>\n",
       "</table>\n",
       "</div>"
      ],
      "text/plain": [
       "     show_id   type                                    title      director  \\\n",
       "7781   s7782  Movie                                     Zoom  Peter Hewitt   \n",
       "7782   s7783  Movie                                     Zozo   Josef Fares   \n",
       "7783   s7784  Movie                                   Zubaan   Mozez Singh   \n",
       "7784   s7785  Movie                        Zulu Man in Japan           NaN   \n",
       "7786   s7787  Movie  ZZ TOP: THAT LITTLE OL' BAND FROM TEXAS      Sam Dunn   \n",
       "\n",
       "                                                   cast  \\\n",
       "7781  Tim Allen, Courteney Cox, Chevy Chase, Kate Ma...   \n",
       "7782  Imad Creidi, Antoinette Turk, Elias Gergi, Car...   \n",
       "7783  Vicky Kaushal, Sarah-Jane Dias, Raaghav Chanan...   \n",
       "7784                                            Nasty C   \n",
       "7786                                                NaN   \n",
       "\n",
       "                                                country          date_added  \\\n",
       "7781                                      United States    January 11, 2020   \n",
       "7782  Sweden, Czech Republic, United Kingdom, Denmar...    October 19, 2020   \n",
       "7783                                              India       March 2, 2019   \n",
       "7784                                                NaN  September 25, 2020   \n",
       "7786              United Kingdom, Canada, United States       March 1, 2020   \n",
       "\n",
       "      release_year rating duration  \\\n",
       "7781          2006     PG   88 min   \n",
       "7782          2005  TV-MA   99 min   \n",
       "7783          2015  TV-14  111 min   \n",
       "7784          2019  TV-MA   44 min   \n",
       "7786          2019  TV-MA   90 min   \n",
       "\n",
       "                                              listed_in  \\\n",
       "7781                 Children & Family Movies, Comedies   \n",
       "7782                       Dramas, International Movies   \n",
       "7783     Dramas, International Movies, Music & Musicals   \n",
       "7784  Documentaries, International Movies, Music & M...   \n",
       "7786                    Documentaries, Music & Musicals   \n",
       "\n",
       "                                            description  \n",
       "7781  Dragged from civilian life, a former superhero...  \n",
       "7782  When Lebanon's Civil War deprives Zozo of his ...  \n",
       "7783  A scrappy but poor boy worms his way into a ty...  \n",
       "7784  In this documentary, South African rapper Nast...  \n",
       "7786  This documentary delves into the mystique behi...  "
      ]
     },
     "execution_count": 70,
     "metadata": {},
     "output_type": "execute_result"
    }
   ],
   "source": [
    "df.tail()"
   ]
  },
  {
   "cell_type": "code",
   "execution_count": 71,
   "id": "f1a9a8c7",
   "metadata": {},
   "outputs": [
    {
     "name": "stdout",
     "output_type": "stream",
     "text": [
      "<class 'pandas.core.frame.DataFrame'>\n",
      "Int64Index: 5377 entries, 1 to 7786\n",
      "Data columns (total 12 columns):\n",
      " #   Column        Non-Null Count  Dtype \n",
      "---  ------        --------------  ----- \n",
      " 0   show_id       5377 non-null   object\n",
      " 1   type          5377 non-null   object\n",
      " 2   title         5377 non-null   object\n",
      " 3   director      5214 non-null   object\n",
      " 4   cast          4951 non-null   object\n",
      " 5   country       5147 non-null   object\n",
      " 6   date_added    5377 non-null   object\n",
      " 7   release_year  5377 non-null   int64 \n",
      " 8   rating        5372 non-null   object\n",
      " 9   duration      5377 non-null   object\n",
      " 10  listed_in     5377 non-null   object\n",
      " 11  description   5377 non-null   object\n",
      "dtypes: int64(1), object(11)\n",
      "memory usage: 546.1+ KB\n"
     ]
    }
   ],
   "source": [
    "df.info()"
   ]
  },
  {
   "cell_type": "code",
   "execution_count": 72,
   "id": "dfbcdf01",
   "metadata": {},
   "outputs": [],
   "source": [
    "# TF-IDF\n",
    "# TF = Term Frequency\n",
    "# IDF = Inverse Document Frequency = log(total number of documents/number of documents containing the term)\n",
    "\n",
    "from sklearn.feature_extraction.text import TfidfVectorizer\n",
    "\n",
    "tfid = TfidfVectorizer(stop_words='english')\n",
    "feature = tfid.fit_transform(df['description'])"
   ]
  },
  {
   "cell_type": "code",
   "execution_count": 73,
   "id": "b0eac6d0",
   "metadata": {},
   "outputs": [],
   "source": [
    "query = ['hero','students','action','money','crazy'] \n",
    "query_feature = tfid.transform([query[0]])"
   ]
  },
  {
   "cell_type": "code",
   "execution_count": 74,
   "id": "a739366d",
   "metadata": {},
   "outputs": [],
   "source": [
    "from sklearn.metrics.pairwise import cosine_similarity\n",
    "cosims = cosine_similarity(query_feature,feature).flatten()"
   ]
  },
  {
   "cell_type": "code",
   "execution_count": 75,
   "id": "e4ac5fd9",
   "metadata": {},
   "outputs": [],
   "source": [
    "result = cosims.argsort()[-6:-1]"
   ]
  },
  {
   "cell_type": "code",
   "execution_count": 76,
   "id": "f8c0fc5e",
   "metadata": {},
   "outputs": [
    {
     "name": "stdout",
     "output_type": "stream",
     "text": [
      "[4383 4054 3331 5322 1630]\n"
     ]
    }
   ],
   "source": [
    "print(result)"
   ]
  },
  {
   "cell_type": "code",
   "execution_count": 77,
   "id": "5342dbbe",
   "metadata": {},
   "outputs": [
    {
     "name": "stdout",
     "output_type": "stream",
     "text": [
      "Worried he’s lost his artistic edge, a wealthy expat novelist returns to his backwater hometown in Argentina, where he’s regarded as a local hero.\n",
      "----------------------------------------------------------------\n",
      "An athlete dupes the world with his tale of miraculous recovery from cancer, becoming a sports hero and beacon of hope, but can he outpace the truth?\n",
      "----------------------------------------------------------------\n",
      "In the probing documentary \"Party Monster,\" DJ Fingablast investigates what became of his childhood hero, DJ Slizzard.\n",
      "----------------------------------------------------------------\n",
      "An orphaned bird tags along with a flock on their long migration to Africa and becomes a hero when his newfound \"family\" runs into trouble.\n",
      "----------------------------------------------------------------\n",
      "After a vengeful college professor targets corruption in the government, he adopts the name \"Gabbar\" and becomes a hero to a weary public.\n",
      "----------------------------------------------------------------\n"
     ]
    }
   ],
   "source": [
    "for x in result:\n",
    "    print(df.iloc[x]['description'])\n",
    "    print('----------------------------------------------------------------')"
   ]
  },
  {
   "cell_type": "code",
   "execution_count": 81,
   "id": "91514410",
   "metadata": {},
   "outputs": [
    {
     "name": "stdout",
     "output_type": "stream",
     "text": [
      "              \n",
      "##################################################################################\n",
      "\"true romance\" Keyword in movie description\n",
      "A beautiful, wealthy woman’s insatiable appetite for romance leads to tragedy and a police investigation.\n",
      "----------------------------------------------------------------\n",
      "A young man struggles with his overbearing mother while looking for romance and a way to kick-start his show business career.\n",
      "----------------------------------------------------------------\n",
      "When his frustrated girlfriend decides to leave him, a struggling writer gets down to work on stories of romance he hopes will win her back.\n",
      "----------------------------------------------------------------\n",
      "In a remote area of the Canary Islands, a surfer falls off a cliff. Fighting to survive, he reflects on his life and past romance. Based on true events.\n",
      "----------------------------------------------------------------\n",
      "A rock musician and a law student whose true passion is music fall in love and pursue a romance that complicates both of their blossoming careers.\n",
      "----------------------------------------------------------------\n",
      "              \n",
      "##################################################################################\n",
      "\"serial killer\" Keyword in movie description\n",
      "A corrupt cop and a serial killer obsessed with a psychopath from the '60s get caught up in a ruthless cat-and-mouse game in this Indian thriller.\n",
      "----------------------------------------------------------------\n",
      "As a visually impaired man attempts to rescue his love interest from a serial killer, the dark story behind the murderer’s disturbing psyche emerges.\n",
      "----------------------------------------------------------------\n",
      "Anticipating the next move in a serial killer's grisly game, a police chief realizes that his daughter and estranged wife are the next likely victims.\n",
      "----------------------------------------------------------------\n",
      "Connected by phone in the same home but 20 years apart, a serial killer puts another woman’s past — and life — on the line to change her own fate.\n",
      "----------------------------------------------------------------\n",
      "Hiding his own murderous past, a man suffering from Alzheimer's must protect his daughter from her boyfriend, who he suspects is also a serial killer.\n",
      "----------------------------------------------------------------\n",
      "              \n",
      "##################################################################################\n",
      "\"teen psychopath\" Keyword in movie description\n",
      "After leaving the orphanage where he was raised, a teen searches for his family only to find work at a farm, where secrets of the past begin to surface.\n",
      "----------------------------------------------------------------\n",
      "After learning she's pregnant, a teen grapples with the consequences while trying to go about her life as if nothing has changed.\n",
      "----------------------------------------------------------------\n",
      "Menaced by a psychopath who's got the local cops scared, waitress Lillian turns to a mysterious old logger to help her turn the tables on her stalker.\n",
      "----------------------------------------------------------------\n",
      "While vacationing at a remote lake house, a mother and her daughters become pawns in the twisted game of an ax-wielding psychopath.\n",
      "----------------------------------------------------------------\n",
      "Two mischievous boys get thrust into a game of cat and mouse with a murderous psychopath after they decide to steal a police officer’s cruiser.\n",
      "----------------------------------------------------------------\n",
      "              \n",
      "##################################################################################\n",
      "\"young man\" Keyword in movie description\n",
      "While serving life in prison, a young man looks back at the people, the circumstances and the system that set him on the path toward his crime.\n",
      "----------------------------------------------------------------\n",
      "After being violently separated from the woman he loves, a young man must disguise himself in order to keep meeting her.\n",
      "----------------------------------------------------------------\n",
      "A con man and a would-be filmmaking crew force themselves into the lives of two grief-scarred young women. But nothing is as it seems.\n",
      "----------------------------------------------------------------\n",
      "While prepping for a family wedding, a young man falls for his sister’s friend, who has already been promised to someone else.\n",
      "----------------------------------------------------------------\n",
      "When a late poet leaves behind his property to a young man, the man's brother suspects the poet may have been more than just a family friend.\n",
      "----------------------------------------------------------------\n",
      "              \n",
      "##################################################################################\n",
      "\"copycat\" Keyword in movie description\n",
      "When an uneducated mother of eight suddenly becomes mayor, she uses the skills she's learned as a housewife to keep her town running like clockwork.\n",
      "----------------------------------------------------------------\n",
      "When an earthquake hits Chile, rescue workers must put aside their differences to save the country from a businessman's evil scheme.\n",
      "----------------------------------------------------------------\n",
      "A young woman recovering poorly from a bad romance gets a new lease on life after encountering a handsome man during a job interview.\n",
      "----------------------------------------------------------------\n",
      "This documentary delves into the mystique behind the blues-rock trio and explores how the enigmatic band created their iconic look and sound.\n",
      "----------------------------------------------------------------\n",
      "When a doctor gets jailed for a string of shocking murders, his loyal wife sets out to commit a copycat crime to prove his innocence.\n",
      "----------------------------------------------------------------\n"
     ]
    }
   ],
   "source": [
    "#Five Keywords\n",
    "\n",
    "query = ['true romance','serial killer','teen psychopath','young man','copycat']\n",
    "\n",
    "for y in query:\n",
    "    query_feature = tfid.transform([y])\n",
    "    cosims = cosine_similarity(query_feature,feature).flatten()\n",
    "    result = cosims.argsort()[-6:-1]\n",
    "    print('              ')\n",
    "    print('##################################################################################')\n",
    "    print(f'\"{y}\" Keyword in movie description')\n",
    "    for x in result:\n",
    "        print(df.iloc[x]['description'])\n",
    "        print('----------------------------------------------------------------')\n",
    "        \n"
   ]
  },
  {
   "cell_type": "code",
   "execution_count": null,
   "id": "bf6dd239",
   "metadata": {},
   "outputs": [],
   "source": []
  }
 ],
 "metadata": {
  "kernelspec": {
   "display_name": "Python 3",
   "language": "python",
   "name": "python3"
  },
  "language_info": {
   "codemirror_mode": {
    "name": "ipython",
    "version": 3
   },
   "file_extension": ".py",
   "mimetype": "text/x-python",
   "name": "python",
   "nbconvert_exporter": "python",
   "pygments_lexer": "ipython3",
   "version": "3.8.8"
  }
 },
 "nbformat": 4,
 "nbformat_minor": 5
}
