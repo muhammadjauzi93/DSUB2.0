{
 "cells": [
  {
   "cell_type": "code",
   "execution_count": 45,
   "id": "fb7ee8eb",
   "metadata": {},
   "outputs": [],
   "source": [
    "import requests\n",
    "\n",
    "url = 'https://raw.githubusercontent.com/muhammadjauzi93/DSUB2.0/main/Day20DSUB.txt'\n",
    "\n",
    "response = requests.get(url)\n",
    "text = response.text"
   ]
  },
  {
   "cell_type": "code",
   "execution_count": 46,
   "id": "78e9fb02",
   "metadata": {},
   "outputs": [
    {
     "name": "stdout",
     "output_type": "stream",
     "text": [
      "KUALA LUMPUR (July 31): The daily Covid-19 cases may begin to show a downward trend in the middle of August as efforts are taken to ramp up the vaccination rate in the Greater Klang Valley.\r\n",
      "\r\n",
      "Deputy Health director-general Datuk Dr Chong Chee Kheong said the prediction is based on the measures taken to curb the pandemic and taking into account the national vaccination programme which is the key to the country's success in the fight against the pandemic.\r\n",
      "\r\n",
      "“The vaccination rate is going on remarkably well but we still have some way to go. Even with these two factors, we may see a decline in the middle of August but things may worsen before that.\r\n",
      "\r\n",
      "“Despite recent evidence on the transmissibility of the Delta variant which may delay the declining trend, with more people getting vaccinated, we hope to see less hospital admissions and fatalities.\r\n",
      "\r\n",
      "“We just have to hang in there, do what we can to help our families and each other, help the frontliners and the best way is to get ourselves vaccinated and continue to comply with the public health measures and standard operating procedures,” he told Bernama during a virtual interview.\r\n",
      "\r\n",
      "The daily Covid-19 vaccination recorded over 500,000 doses for the past few days, with 556,404 doses administered on July 29, the highest since the National Covid-19 Immunisation Programme (PICK) was launched last Feb 24.\r\n",
      "\r\n",
      "Dr Chong, who is also Greater Klang Valley Special Task Force (GKV STF) commander, described the current pandemic situation as very worrying as it affects the healthcare system, especially in the Greater Klang Valley as 70% of Covid-19 cases emanate from here.\r\n",
      "\r\n",
      "He said the GKV STF has put in place a number of strategic measures to optimise care services, reduce virus transmission and support the community and health care workers, since its inception on July 12.\r\n",
      "\r\n",
      "Some of the key initiatives include increasing bed capacity, intensive care unit (ICU) care, oxygen supply, manpower deployment and use of volunteers, as well as getting full support from the Malaysian Armed Forces (MAF).\r\n",
      "\r\n",
      "“We have the Tuanku Mizan military hospital which provides over 150 beds for this purpose, field hospitals as well as military personnel to help us in this pandemic. Manpower is essential, we need a lot workers, both health and non-health and we hope Malaysians will step up to support us.  \r\n",
      "\r\n",
      "“The GKV STF diverse set of members include special advisor to the Prime Minister, Tan Sri Dr Jemilah Mahmood, and other renowned external public health experts. We also work closely with civil society and private organisations who have been helping us with volunteers and donation in kind, to match with the increase in bed capacity and call centres.\r\n",
      "\r\n",
      "“To quote one example, an Internet Telco built a Voice over Internet Protocol (VOIP) Call Centre for our virtual Covid-19 Assessment Centres (CAC) pro bono. This is truly a whole-of-nation approach to manage the pandemic,” he added.\r\n",
      "\r\n",
      "Dr Chong said other initiatives were strengthening the CACs by offering virtual CACs for asymptomatic and mildly symptomatic patients and enhancing home monitoring management to reduce congestion and risks at the CACs.\r\n",
      "\r\n",
      "The Ministry of Health (MoH) is also offering more RTK-Ag tests to health clinics and general practitioners via sales of Medical Device Authority-approved test kits to allow for wider testing, while home saliva test kits for self-testing are also available in pharmacies for the public to purchase.\r\n",
      "\r\n",
      "He hopes with more self-test kits available in the market, the price will be affordable to the public and there will be less people required at healthcare facilities to conduct Covid-19 tests.\r\n",
      "\r\n",
      "“But for those who cannot afford the kits, we advise them to come to our facilities to be tested,\" he said.\r\n",
      "\r\n",
      "Dr Chong said MoH has provided guidance and advice to the government and National Security Council on a regular basis based on science, evidence and practices in other countries on the management of Covid-19.\r\n",
      "\r\n",
      "“The decision made is actually difficult and complicated because it involves two aspects — the disease and the people’s livelihoods. If we act too tough on one aspect, livelihoods will be affected and if we act too tough on the other aspect, then the transmission and cases will go up.\r\n",
      "\r\n",
      "“So, balancing this is very challenging and this is what the government has been trying to do when making decisions,” he added. \n"
     ]
    }
   ],
   "source": [
    "print(text)"
   ]
  },
  {
   "cell_type": "code",
   "execution_count": 58,
   "id": "e6c7a05a",
   "metadata": {},
   "outputs": [],
   "source": [
    "punctuations = '''\\n!()-[]{};:'\"\\, <>./''\\r“”?@#$%^&*_~'''\n",
    "\n",
    "for character in text:\n",
    "    if character in punctuations:\n",
    "        text = text.replace(character,' ')\n",
    "        \n",
    "text = text.lower()"
   ]
  },
  {
   "cell_type": "code",
   "execution_count": 59,
   "id": "bdbed5bc",
   "metadata": {},
   "outputs": [
    {
     "name": "stdout",
     "output_type": "stream",
     "text": [
      "kuala lumpur  july 31   the daily covid 19 cases may begin to show a downward trend in the middle of august as efforts are taken to ramp up the vaccination rate in the greater klang valley     deputy health director general datuk dr chong chee kheong said the prediction is based on the measures taken to curb the pandemic and taking into account the national vaccination programme which is the key to the country s success in the fight against the pandemic      the vaccination rate is going on remarkably well but we still have some way to go  even with these two factors  we may see a decline in the middle of august but things may worsen before that      despite recent evidence on the transmissibility of the delta variant which may delay the declining trend  with more people getting vaccinated  we hope to see less hospital admissions and fatalities      we just have to hang in there  do what we can to help our families and each other  help the frontliners and the best way is to get ourselves vaccinated and continue to comply with the public health measures and standard operating procedures   he told bernama during a virtual interview     the daily covid 19 vaccination recorded over 500 000 doses for the past few days  with 556 404 doses administered on july 29  the highest since the national covid 19 immunisation programme  pick  was launched last feb 24     dr chong  who is also greater klang valley special task force  gkv stf  commander  described the current pandemic situation as very worrying as it affects the healthcare system  especially in the greater klang valley as 70  of covid 19 cases emanate from here     he said the gkv stf has put in place a number of strategic measures to optimise care services  reduce virus transmission and support the community and health care workers  since its inception on july 12     some of the key initiatives include increasing bed capacity  intensive care unit  icu  care  oxygen supply  manpower deployment and use of volunteers  as well as getting full support from the malaysian armed forces  maf       we have the tuanku mizan military hospital which provides over 150 beds for this purpose  field hospitals as well as military personnel to help us in this pandemic  manpower is essential  we need a lot workers  both health and non health and we hope malaysians will step up to support us        the gkv stf diverse set of members include special advisor to the prime minister  tan sri dr jemilah mahmood  and other renowned external public health experts  we also work closely with civil society and private organisations who have been helping us with volunteers and donation in kind  to match with the increase in bed capacity and call centres      to quote one example  an internet telco built a voice over internet protocol  voip  call centre for our virtual covid 19 assessment centres  cac  pro bono  this is truly a whole of nation approach to manage the pandemic   he added     dr chong said other initiatives were strengthening the cacs by offering virtual cacs for asymptomatic and mildly symptomatic patients and enhancing home monitoring management to reduce congestion and risks at the cacs     the ministry of health  moh  is also offering more rtk ag tests to health clinics and general practitioners via sales of medical device authority approved test kits to allow for wider testing  while home saliva test kits for self testing are also available in pharmacies for the public to purchase     he hopes with more self test kits available in the market  the price will be affordable to the public and there will be less people required at healthcare facilities to conduct covid 19 tests      but for those who cannot afford the kits  we advise them to come to our facilities to be tested   he said     dr chong said moh has provided guidance and advice to the government and national security council on a regular basis based on science  evidence and practices in other countries on the management of covid 19      the decision made is actually difficult and complicated because it involves two aspects — the disease and the people’s livelihoods  if we act too tough on one aspect  livelihoods will be affected and if we act too tough on the other aspect  then the transmission and cases will go up      so  balancing this is very challenging and this is what the government has been trying to do when making decisions   he added  \n"
     ]
    }
   ],
   "source": [
    "print(text)"
   ]
  },
  {
   "cell_type": "code",
   "execution_count": 60,
   "id": "b98e991e",
   "metadata": {},
   "outputs": [],
   "source": [
    "tokens = text.split(' ')"
   ]
  },
  {
   "cell_type": "code",
   "execution_count": 63,
   "id": "6a0a693e",
   "metadata": {},
   "outputs": [
    {
     "name": "stdout",
     "output_type": "stream",
     "text": [
      "['kuala', 'lumpur', '', 'july', '31', '', '', 'the', 'daily', 'covid', '19', 'cases', 'may', 'begin', 'to', 'show', 'a', 'downward', 'trend', 'in', 'the', 'middle', 'of', 'august', 'as', 'efforts', 'are', 'taken', 'to', 'ramp', 'up', 'the', 'vaccination', 'rate', 'in', 'the', 'greater', 'klang', 'valley', '', '', '', '', 'deputy', 'health', 'director', 'general', 'datuk', 'dr', 'chong', 'chee', 'kheong', 'said', 'the', 'prediction', 'is', 'based', 'on', 'the', 'measures', 'taken', 'to', 'curb', 'the', 'pandemic', 'and', 'taking', 'into', 'account', 'the', 'national', 'vaccination', 'programme', 'which', 'is', 'the', 'key', 'to', 'the', 'country', 's', 'success', 'in', 'the', 'fight', 'against', 'the', 'pandemic', '', '', '', '', '', 'the', 'vaccination', 'rate', 'is', 'going', 'on', 'remarkably', 'well', 'but', 'we', 'still', 'have', 'some', 'way', 'to', 'go', '', 'even', 'with', 'these', 'two', 'factors', '', 'we', 'may', 'see', 'a', 'decline', 'in', 'the', 'middle', 'of', 'august', 'but', 'things', 'may', 'worsen', 'before', 'that', '', '', '', '', '', 'despite', 'recent', 'evidence', 'on', 'the', 'transmissibility', 'of', 'the', 'delta', 'variant', 'which', 'may', 'delay', 'the', 'declining', 'trend', '', 'with', 'more', 'people', 'getting', 'vaccinated', '', 'we', 'hope', 'to', 'see', 'less', 'hospital', 'admissions', 'and', 'fatalities', '', '', '', '', '', 'we', 'just', 'have', 'to', 'hang', 'in', 'there', '', 'do', 'what', 'we', 'can', 'to', 'help', 'our', 'families', 'and', 'each', 'other', '', 'help', 'the', 'frontliners', 'and', 'the', 'best', 'way', 'is', 'to', 'get', 'ourselves', 'vaccinated', 'and', 'continue', 'to', 'comply', 'with', 'the', 'public', 'health', 'measures', 'and', 'standard', 'operating', 'procedures', '', '', 'he', 'told', 'bernama', 'during', 'a', 'virtual', 'interview', '', '', '', '', 'the', 'daily', 'covid', '19', 'vaccination', 'recorded', 'over', '500', '000', 'doses', 'for', 'the', 'past', 'few', 'days', '', 'with', '556', '404', 'doses', 'administered', 'on', 'july', '29', '', 'the', 'highest', 'since', 'the', 'national', 'covid', '19', 'immunisation', 'programme', '', 'pick', '', 'was', 'launched', 'last', 'feb', '24', '', '', '', '', 'dr', 'chong', '', 'who', 'is', 'also', 'greater', 'klang', 'valley', 'special', 'task', 'force', '', 'gkv', 'stf', '', 'commander', '', 'described', 'the', 'current', 'pandemic', 'situation', 'as', 'very', 'worrying', 'as', 'it', 'affects', 'the', 'healthcare', 'system', '', 'especially', 'in', 'the', 'greater', 'klang', 'valley', 'as', '70', '', 'of', 'covid', '19', 'cases', 'emanate', 'from', 'here', '', '', '', '', 'he', 'said', 'the', 'gkv', 'stf', 'has', 'put', 'in', 'place', 'a', 'number', 'of', 'strategic', 'measures', 'to', 'optimise', 'care', 'services', '', 'reduce', 'virus', 'transmission', 'and', 'support', 'the', 'community', 'and', 'health', 'care', 'workers', '', 'since', 'its', 'inception', 'on', 'july', '12', '', '', '', '', 'some', 'of', 'the', 'key', 'initiatives', 'include', 'increasing', 'bed', 'capacity', '', 'intensive', 'care', 'unit', '', 'icu', '', 'care', '', 'oxygen', 'supply', '', 'manpower', 'deployment', 'and', 'use', 'of', 'volunteers', '', 'as', 'well', 'as', 'getting', 'full', 'support', 'from', 'the', 'malaysian', 'armed', 'forces', '', 'maf', '', '', '', '', '', '', 'we', 'have', 'the', 'tuanku', 'mizan', 'military', 'hospital', 'which', 'provides', 'over', '150', 'beds', 'for', 'this', 'purpose', '', 'field', 'hospitals', 'as', 'well', 'as', 'military', 'personnel', 'to', 'help', 'us', 'in', 'this', 'pandemic', '', 'manpower', 'is', 'essential', '', 'we', 'need', 'a', 'lot', 'workers', '', 'both', 'health', 'and', 'non', 'health', 'and', 'we', 'hope', 'malaysians', 'will', 'step', 'up', 'to', 'support', 'us', '', '', '', '', '', '', '', 'the', 'gkv', 'stf', 'diverse', 'set', 'of', 'members', 'include', 'special', 'advisor', 'to', 'the', 'prime', 'minister', '', 'tan', 'sri', 'dr', 'jemilah', 'mahmood', '', 'and', 'other', 'renowned', 'external', 'public', 'health', 'experts', '', 'we', 'also', 'work', 'closely', 'with', 'civil', 'society', 'and', 'private', 'organisations', 'who', 'have', 'been', 'helping', 'us', 'with', 'volunteers', 'and', 'donation', 'in', 'kind', '', 'to', 'match', 'with', 'the', 'increase', 'in', 'bed', 'capacity', 'and', 'call', 'centres', '', '', '', '', '', 'to', 'quote', 'one', 'example', '', 'an', 'internet', 'telco', 'built', 'a', 'voice', 'over', 'internet', 'protocol', '', 'voip', '', 'call', 'centre', 'for', 'our', 'virtual', 'covid', '19', 'assessment', 'centres', '', 'cac', '', 'pro', 'bono', '', 'this', 'is', 'truly', 'a', 'whole', 'of', 'nation', 'approach', 'to', 'manage', 'the', 'pandemic', '', '', 'he', 'added', '', '', '', '', 'dr', 'chong', 'said', 'other', 'initiatives', 'were', 'strengthening', 'the', 'cacs', 'by', 'offering', 'virtual', 'cacs', 'for', 'asymptomatic', 'and', 'mildly', 'symptomatic', 'patients', 'and', 'enhancing', 'home', 'monitoring', 'management', 'to', 'reduce', 'congestion', 'and', 'risks', 'at', 'the', 'cacs', '', '', '', '', 'the', 'ministry', 'of', 'health', '', 'moh', '', 'is', 'also', 'offering', 'more', 'rtk', 'ag', 'tests', 'to', 'health', 'clinics', 'and', 'general', 'practitioners', 'via', 'sales', 'of', 'medical', 'device', 'authority', 'approved', 'test', 'kits', 'to', 'allow', 'for', 'wider', 'testing', '', 'while', 'home', 'saliva', 'test', 'kits', 'for', 'self', 'testing', 'are', 'also', 'available', 'in', 'pharmacies', 'for', 'the', 'public', 'to', 'purchase', '', '', '', '', 'he', 'hopes', 'with', 'more', 'self', 'test', 'kits', 'available', 'in', 'the', 'market', '', 'the', 'price', 'will', 'be', 'affordable', 'to', 'the', 'public', 'and', 'there', 'will', 'be', 'less', 'people', 'required', 'at', 'healthcare', 'facilities', 'to', 'conduct', 'covid', '19', 'tests', '', '', '', '', '', 'but', 'for', 'those', 'who', 'cannot', 'afford', 'the', 'kits', '', 'we', 'advise', 'them', 'to', 'come', 'to', 'our', 'facilities', 'to', 'be', 'tested', '', '', 'he', 'said', '', '', '', '', 'dr', 'chong', 'said', 'moh', 'has', 'provided', 'guidance', 'and', 'advice', 'to', 'the', 'government', 'and', 'national', 'security', 'council', 'on', 'a', 'regular', 'basis', 'based', 'on', 'science', '', 'evidence', 'and', 'practices', 'in', 'other', 'countries', 'on', 'the', 'management', 'of', 'covid', '19', '', '', '', '', '', 'the', 'decision', 'made', 'is', 'actually', 'difficult', 'and', 'complicated', 'because', 'it', 'involves', 'two', 'aspects', '—', 'the', 'disease', 'and', 'the', 'people’s', 'livelihoods', '', 'if', 'we', 'act', 'too', 'tough', 'on', 'one', 'aspect', '', 'livelihoods', 'will', 'be', 'affected', 'and', 'if', 'we', 'act', 'too', 'tough', 'on', 'the', 'other', 'aspect', '', 'then', 'the', 'transmission', 'and', 'cases', 'will', 'go', 'up', '', '', '', '', '', 'so', '', 'balancing', 'this', 'is', 'very', 'challenging', 'and', 'this', 'is', 'what', 'the', 'government', 'has', 'been', 'trying', 'to', 'do', 'when', 'making', 'decisions', '', '', 'he', 'added', '', '']\n"
     ]
    }
   ],
   "source": [
    "print(tokens)"
   ]
  },
  {
   "cell_type": "code",
   "execution_count": 64,
   "id": "15932c0b",
   "metadata": {},
   "outputs": [
    {
     "name": "stdout",
     "output_type": "stream",
     "text": [
      "[('', 146), ('the', 52), ('to', 28), ('and', 28), ('in', 13), ('of', 12), ('we', 12), ('is', 11), ('on', 10), ('a', 8), ('as', 8), ('health', 8), ('with', 8), ('for', 8), ('covid', 7), ('19', 7), ('he', 6), ('dr', 5), ('said', 5), ('pandemic', 5), ('other', 5), ('this', 5), ('will', 5), ('may', 4), ('vaccination', 4), ('chong', 4), ('have', 4), ('public', 4), ('also', 4), ('care', 4), ('kits', 4), ('be', 4), ('july', 3), ('cases', 3), ('up', 3), ('greater', 3), ('klang', 3), ('valley', 3), ('measures', 3), ('national', 3), ('which', 3), ('well', 3), ('but', 3), ('more', 3), ('help', 3), ('our', 3), ('virtual', 3), ('over', 3), ('who', 3), ('gkv', 3)]\n"
     ]
    }
   ],
   "source": [
    "from collections import Counter\n",
    "\n",
    "print(Counter(tokens).most_common(50))"
   ]
  },
  {
   "cell_type": "code",
   "execution_count": 65,
   "id": "849ee6dc",
   "metadata": {},
   "outputs": [],
   "source": [
    "#stopwords\n",
    "\n",
    "url2 = 'https://raw.githubusercontent.com/theleadio/datascience_demo/master/stopwords.txt'\n",
    "response = requests.get(url2)\n",
    "stopwords = response.text.splitlines()"
   ]
  },
  {
   "cell_type": "code",
   "execution_count": 66,
   "id": "2f03d4c1",
   "metadata": {},
   "outputs": [],
   "source": [
    "tokens = [t for t in tokens if t not in stopwords and len(t)>0]"
   ]
  },
  {
   "cell_type": "code",
   "execution_count": 67,
   "id": "9926a72d",
   "metadata": {},
   "outputs": [
    {
     "name": "stdout",
     "output_type": "stream",
     "text": [
      "[('health', 8), ('covid', 7), ('19', 7), ('dr', 5), ('pandemic', 5), ('vaccination', 4), ('chong', 4), ('public', 4), ('care', 4), ('kits', 4), ('july', 3), ('klang', 3), ('valley', 3), ('measures', 3), ('national', 3), ('virtual', 3), ('gkv', 3), ('stf', 3), ('support', 3), ('cacs', 3), ('test', 3), ('daily', 2), ('trend', 2), ('middle', 2), ('august', 2), ('rate', 2), ('based', 2), ('programme', 2), ('key', 2), ('evidence', 2), ('people', 2), ('vaccinated', 2), ('hope', 2), ('hospital', 2), ('doses', 2), ('special', 2), ('healthcare', 2), ('reduce', 2), ('transmission', 2), ('workers', 2), ('initiatives', 2), ('include', 2), ('bed', 2), ('capacity', 2), ('manpower', 2), ('volunteers', 2), ('military', 2), ('call', 2), ('centres', 2), ('internet', 2)]\n"
     ]
    }
   ],
   "source": [
    "print(Counter(tokens).most_common(50))"
   ]
  },
  {
   "cell_type": "code",
   "execution_count": null,
   "id": "e6bfada3",
   "metadata": {},
   "outputs": [],
   "source": []
  }
 ],
 "metadata": {
  "kernelspec": {
   "display_name": "Python 3",
   "language": "python",
   "name": "python3"
  },
  "language_info": {
   "codemirror_mode": {
    "name": "ipython",
    "version": 3
   },
   "file_extension": ".py",
   "mimetype": "text/x-python",
   "name": "python",
   "nbconvert_exporter": "python",
   "pygments_lexer": "ipython3",
   "version": "3.8.8"
  }
 },
 "nbformat": 4,
 "nbformat_minor": 5
}
