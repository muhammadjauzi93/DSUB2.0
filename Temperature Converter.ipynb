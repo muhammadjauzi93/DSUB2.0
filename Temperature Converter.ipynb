{
 "cells": [
  {
   "cell_type": "code",
   "execution_count": null,
   "id": "682102af",
   "metadata": {},
   "outputs": [],
   "source": [
    "#Input temperature\n",
    "temp = input(\"Please type in temperature in degree Celsius or Farenheit, e.g. 10C,45F: \")\n"
   ]
  },
  {
   "cell_type": "code",
   "execution_count": null,
   "id": "20dca793",
   "metadata": {},
   "outputs": [],
   "source": [
    "#Check if Celsius or Farenheit before converting and printing result\n",
    "if temp[-1:] == 'F' or temp[-1:] == 'f':\n",
    "    result = (int(temp[:-1])-32)*(5/9)\n",
    "    print(str(result)+'C')\n",
    "elif temp[-1:] == 'C' or temp[-1:] == 'c':\n",
    "    result = (int(temp[:-1])*1.8)+32\n",
    "    print(str(result)+'F')\n",
    "else:\n",
    "    print('Temperature invalid')"
   ]
  },
  {
   "cell_type": "code",
   "execution_count": null,
   "id": "dbeba0dd",
   "metadata": {},
   "outputs": [],
   "source": []
  },
  {
   "cell_type": "code",
   "execution_count": null,
   "id": "7fadfb59",
   "metadata": {},
   "outputs": [],
   "source": []
  }
 ],
 "metadata": {
  "kernelspec": {
   "display_name": "Python 3",
   "language": "python",
   "name": "python3"
  },
  "language_info": {
   "codemirror_mode": {
    "name": "ipython",
    "version": 3
   },
   "file_extension": ".py",
   "mimetype": "text/x-python",
   "name": "python",
   "nbconvert_exporter": "python",
   "pygments_lexer": "ipython3",
   "version": "3.8.8"
  }
 },
 "nbformat": 4,
 "nbformat_minor": 5
}
