{
 "cells": [
  {
   "cell_type": "code",
   "execution_count": 1,
   "id": "aa412344",
   "metadata": {},
   "outputs": [],
   "source": [
    "import nltk\n",
    "from nltk.sentiment.vader import SentimentIntensityAnalyzer"
   ]
  },
  {
   "cell_type": "code",
   "execution_count": 2,
   "id": "d13654de",
   "metadata": {},
   "outputs": [
    {
     "name": "stderr",
     "output_type": "stream",
     "text": [
      "[nltk_data] Downloading package vader_lexicon to\n",
      "[nltk_data]     C:\\Users\\muham\\AppData\\Roaming\\nltk_data...\n"
     ]
    },
    {
     "data": {
      "text/plain": [
       "True"
      ]
     },
     "execution_count": 2,
     "metadata": {},
     "output_type": "execute_result"
    }
   ],
   "source": [
    "nltk.download('vader_lexicon')"
   ]
  },
  {
   "cell_type": "code",
   "execution_count": 3,
   "id": "6b21eed3",
   "metadata": {},
   "outputs": [
    {
     "data": {
      "text/plain": [
       "{'neg': 0.0, 'neu': 0.367, 'pos': 0.633, 'compound': 0.8627}"
      ]
     },
     "execution_count": 3,
     "metadata": {},
     "output_type": "execute_result"
    }
   ],
   "source": [
    "analyzer = SentimentIntensityAnalyzer()\n",
    "\n",
    "text = \"I love this dress, it is so pretty!\"\n",
    "analyzer.polarity_scores(text)"
   ]
  },
  {
   "cell_type": "code",
   "execution_count": 12,
   "id": "ecf04417",
   "metadata": {},
   "outputs": [
    {
     "name": "stdout",
     "output_type": "stream",
     "text": [
      "Sentence: I’m losing my mind over this \n",
      "Sentiment:{'neg': 0.342, 'neu': 0.658, 'pos': 0.0, 'compound': -0.3818}\n",
      "\n",
      "Sentence: Do not let others decide your future \n",
      "Sentiment:{'neg': 0.0, 'neu': 1.0, 'pos': 0.0, 'compound': 0.0}\n",
      "\n",
      "Sentence: Another edition of my cat ate my homework \n",
      "Sentiment:{'neg': 0.0, 'neu': 1.0, 'pos': 0.0, 'compound': 0.0}\n",
      "\n",
      "Sentence: Online protests are not enough anymore. \n",
      "Sentiment:{'neg': 0.275, 'neu': 0.725, 'pos': 0.0, 'compound': -0.2263}\n",
      "\n",
      "Sentence: If we don’t work together after this, Malaysia will be lost. \n",
      "Sentiment:{'neg': 0.187, 'neu': 0.813, 'pos': 0.0, 'compound': -0.3182}\n",
      "\n"
     ]
    }
   ],
   "source": [
    "text = ['I’m losing my mind over this','Do not let others decide your future','Another edition of my cat ate my homework','Online protests are not enough anymore.','If we don’t work together after this, Malaysia will be lost.']\n",
    "\n",
    "for x in text:\n",
    "    print(f'Sentence: {x} \\nSentiment:{analyzer.polarity_scores(x)}\\n')"
   ]
  },
  {
   "cell_type": "code",
   "execution_count": null,
   "id": "0ac66864",
   "metadata": {},
   "outputs": [],
   "source": []
  }
 ],
 "metadata": {
  "kernelspec": {
   "display_name": "Python 3",
   "language": "python",
   "name": "python3"
  },
  "language_info": {
   "codemirror_mode": {
    "name": "ipython",
    "version": 3
   },
   "file_extension": ".py",
   "mimetype": "text/x-python",
   "name": "python",
   "nbconvert_exporter": "python",
   "pygments_lexer": "ipython3",
   "version": "3.8.8"
  }
 },
 "nbformat": 4,
 "nbformat_minor": 5
}
